{
 "cells": [
  {
   "cell_type": "code",
   "execution_count": 42,
   "metadata": {},
   "outputs": [],
   "source": [
    "import ujson"
   ]
  },
  {
   "cell_type": "code",
   "execution_count": 43,
   "metadata": {},
   "outputs": [],
   "source": [
    "filename = '' ## insert filename here\n",
    "with open(filename) as f:\n",
    "    data = ujson.load(f)\n",
    "\n",
    "TRAINING_DATA = []"
   ]
  },
  {
   "cell_type": "code",
   "execution_count": 44,
   "metadata": {},
   "outputs": [],
   "source": [
    "for d in data:\n",
    "    tuple_1 = d['data']['response']\n",
    "    tuple_2 = {}\n",
    "    entities = []\n",
    "    results = d['annotations'][0]['result']\n",
    "    for x in results:\n",
    "        entities.append((x['value']['start'],  x['value']['end'], x['value']['labels'][0]))\n",
    "    tuple_2['entities'] = entities\n",
    "    TRAINING_DATA.append((tuple_1, tuple_2))"
   ]
  },
  {
   "cell_type": "code",
   "execution_count": 53,
   "metadata": {},
   "outputs": [
    {
     "name": "stdout",
     "output_type": "stream",
     "text": [
      "Grande\n",
      "Ice\n",
      "Brown Sugar\n",
      "shaken espresso\n",
      "Brown Sugar Oat shaken espresso\n"
     ]
    },
    {
     "ename": "ValueError",
     "evalue": "[E1010] Unable to set entity information for token 2 which is included in more than one span in entities, blocked, missing or outside.",
     "output_type": "error",
     "traceback": [
      "\u001b[0;31m---------------------------------------------------------------------------\u001b[0m",
      "\u001b[0;31mValueError\u001b[0m                                Traceback (most recent call last)",
      "\u001b[1;32m/Users/jack/hci/model/scratch.ipynb Cell 4\u001b[0m in \u001b[0;36m<cell line: 6>\u001b[0;34m()\u001b[0m\n\u001b[1;32m     <a href='vscode-notebook-cell:/Users/jack/hci/model/scratch.ipynb#W4sZmlsZQ%3D%3D?line=11'>12</a>\u001b[0m         span \u001b[39m=\u001b[39m doc\u001b[39m.\u001b[39mchar_span(start, end, label\u001b[39m=\u001b[39mlabel)\n\u001b[1;32m     <a href='vscode-notebook-cell:/Users/jack/hci/model/scratch.ipynb#W4sZmlsZQ%3D%3D?line=12'>13</a>\u001b[0m         ents\u001b[39m.\u001b[39mappend(span)\n\u001b[0;32m---> <a href='vscode-notebook-cell:/Users/jack/hci/model/scratch.ipynb#W4sZmlsZQ%3D%3D?line=13'>14</a>\u001b[0m     doc\u001b[39m.\u001b[39;49ments \u001b[39m=\u001b[39m ents\n\u001b[1;32m     <a href='vscode-notebook-cell:/Users/jack/hci/model/scratch.ipynb#W4sZmlsZQ%3D%3D?line=14'>15</a>\u001b[0m     db\u001b[39m.\u001b[39madd(doc)\n\u001b[1;32m     <a href='vscode-notebook-cell:/Users/jack/hci/model/scratch.ipynb#W4sZmlsZQ%3D%3D?line=15'>16</a>\u001b[0m db\u001b[39m.\u001b[39mto_disk(\u001b[39m\"\u001b[39m\u001b[39m./train.spacy\u001b[39m\u001b[39m\"\u001b[39m)\n",
      "File \u001b[0;32m/opt/homebrew/Caskroom/miniforge/base/envs/data_mining/lib/python3.10/site-packages/spacy/tokens/doc.pyx:762\u001b[0m, in \u001b[0;36mspacy.tokens.doc.Doc.ents.__set__\u001b[0;34m()\u001b[0m\n",
      "File \u001b[0;32m/opt/homebrew/Caskroom/miniforge/base/envs/data_mining/lib/python3.10/site-packages/spacy/tokens/doc.pyx:799\u001b[0m, in \u001b[0;36mspacy.tokens.doc.Doc.set_ents\u001b[0;34m()\u001b[0m\n",
      "\u001b[0;31mValueError\u001b[0m: [E1010] Unable to set entity information for token 2 which is included in more than one span in entities, blocked, missing or outside."
     ]
    }
   ],
   "source": [
    "from spacy.tokens import DocBin\n",
    "import spacy\n",
    "db = DocBin()\n",
    "nlp = spacy.blank(\"en\")\n",
    "\n",
    "for text, annotations in TRAINING_DATA:\n",
    "    doc = nlp(text)\n",
    "    ents = []\n",
    "    for start, end, label in annotations['entities']:\n",
    "        print(text[start:end])\n",
    "        span = doc.char_span(start, end, label=label)\n",
    "        ents.append(span)\n",
    "    doc.ents = ents\n",
    "    db.add(doc)\n",
    "db.to_disk(\"./train.spacy\")\n"
   ]
  },
  {
   "cell_type": "markdown",
   "metadata": {},
   "source": []
  }
 ],
 "metadata": {
  "kernelspec": {
   "display_name": "Python 3.10.6 ('data_mining')",
   "language": "python",
   "name": "python3"
  },
  "language_info": {
   "codemirror_mode": {
    "name": "ipython",
    "version": 3
   },
   "file_extension": ".py",
   "mimetype": "text/x-python",
   "name": "python",
   "nbconvert_exporter": "python",
   "pygments_lexer": "ipython3",
   "version": "3.10.6"
  },
  "orig_nbformat": 4,
  "vscode": {
   "interpreter": {
    "hash": "2298ba359fbae6d6158f8907234987863a11850c54e05a14a74225930b181c78"
   }
  }
 },
 "nbformat": 4,
 "nbformat_minor": 2
}
