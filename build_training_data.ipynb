{
 "cells": [
  {
   "cell_type": "code",
   "execution_count": 5,
   "metadata": {},
   "outputs": [],
   "source": [
    "import ujson"
   ]
  },
  {
   "cell_type": "code",
   "execution_count": 6,
   "metadata": {},
   "outputs": [],
   "source": [
    "filename = 'data.json' ## insert filename here\n",
    "with open(filename) as f:\n",
    "    data = ujson.load(f)\n",
    "\n",
    "TRAINING_DATA = []"
   ]
  },
  {
   "cell_type": "code",
   "execution_count": 7,
   "metadata": {},
   "outputs": [],
   "source": [
    "for d in data:\n",
    "    tuple_1 = d['data']['response']\n",
    "    tuple_2 = {}\n",
    "    entities = []\n",
    "    results = d['annotations'][0]['result']\n",
    "    for x in results:\n",
    "        entities.append((x['value']['start'],  x['value']['end'], x['value']['labels'][0]))\n",
    "    tuple_2['entities'] = entities\n",
    "    TRAINING_DATA.append((tuple_1, tuple_2))"
   ]
  },
  {
   "cell_type": "code",
   "execution_count": 10,
   "metadata": {},
   "outputs": [
    {
     "name": "stdout",
     "output_type": "stream",
     "text": [
      "7\n"
     ]
    }
   ],
   "source": [
    "from spacy.tokens import DocBin\n",
    "import spacy\n",
    "db = DocBin()\n",
    "nlp = spacy.blank(\"en\")\n",
    "\n",
    "bad = 0\n",
    "\n",
    "for text, annotations in TRAINING_DATA:\n",
    "    doc = nlp(text)\n",
    "    ents = []\n",
    "    for start, end, label in annotations['entities']:\n",
    "        # print(text, text[start:end], label)\n",
    "        span = doc.char_span(start, end, label=label)\n",
    "        ents.append(span)\n",
    "    try:\n",
    "        doc.ents = ents\n",
    "        db.add(doc)\n",
    "    except:\n",
    "        bad += 1\n",
    "db.to_disk(\"./train.spacy\")\n",
    "print(bad)\n"
   ]
  },
  {
   "cell_type": "code",
   "execution_count": 13,
   "metadata": {},
   "outputs": [
    {
     "name": "stdout",
     "output_type": "stream",
     "text": [
      "\u001b[38;5;4mℹ Saving to output directory: output_folder\u001b[0m\n",
      "\u001b[38;5;4mℹ Using CPU\u001b[0m\n",
      "\u001b[1m\n",
      "=========================== Initializing pipeline ===========================\u001b[0m\n",
      "[2022-12-01 00:00:30,489] [INFO] Set up nlp object from config\n",
      "[2022-12-01 00:00:30,506] [INFO] Pipeline: ['tok2vec', 'ner']\n",
      "[2022-12-01 00:00:30,512] [INFO] Created vocabulary\n",
      "[2022-12-01 00:00:30,514] [INFO] Finished initializing nlp object\n",
      "[2022-12-01 00:00:30,765] [INFO] Initialized pipeline components: ['tok2vec', 'ner']\n",
      "\u001b[38;5;2m✔ Initialized pipeline\u001b[0m\n",
      "\u001b[1m\n",
      "============================= Training pipeline =============================\u001b[0m\n",
      "\u001b[38;5;4mℹ Pipeline: ['tok2vec', 'ner']\u001b[0m\n",
      "\u001b[38;5;4mℹ Initial learn rate: 0.001\u001b[0m\n",
      "E    #       LOSS TOK2VEC  LOSS NER  ENTS_F  ENTS_P  ENTS_R  SCORE \n",
      "---  ------  ------------  --------  ------  ------  ------  ------\n",
      "  0       0          0.00     69.37   18.15   14.17   25.24    0.18\n",
      " 15     200        245.27   5570.43   99.23   99.16   99.30    0.99\n",
      " 35     400        191.20    458.68   99.72   99.58   99.86    1.00\n",
      " 59     600        150.94    180.51   99.86   99.86   99.86    1.00\n",
      " 88     800        137.90    124.53   99.86   99.86   99.86    1.00\n",
      "124    1000        167.05    119.65   99.86   99.86   99.86    1.00\n",
      "167    1200        120.93    103.75   99.86   99.86   99.86    1.00\n",
      "217    1400        276.58    152.44   99.86   99.86   99.86    1.00\n",
      "282    1600        247.64    170.40   99.86   99.86   99.86    1.00\n",
      "352    1800        124.96    117.82   99.86   99.86   99.86    1.00\n",
      "452    2000        189.91    187.71   99.86   99.86   99.86    1.00\n",
      "552    2200        165.75    175.95   99.86   99.86   99.86    1.00\n",
      "\u001b[38;5;2m✔ Saved pipeline to output directory\u001b[0m\n",
      "output_folder/model-last\n"
     ]
    }
   ],
   "source": [
    "!python -m spacy train config.cfg --paths.train train.spacy --paths.dev train.spacy --output output_folder"
   ]
  },
  {
   "cell_type": "code",
   "execution_count": 25,
   "metadata": {},
   "outputs": [
    {
     "name": "stdout",
     "output_type": "stream",
     "text": [
      "\u001b[38;5;4mℹ Building package artifacts: wheel\u001b[0m\n",
      "\u001b[38;5;2m✔ Loaded meta.json from file\u001b[0m\n",
      "/Users/chris/Documents/UR/SENIOR/CSC412/Projects/Final/CLP/output_folder/model-best/meta.json\n",
      "\u001b[38;5;2m✔ Generated README.md from meta.json\u001b[0m\n",
      "\u001b[38;5;2m✔ Successfully created package directory 'en_Coff_Ev1-1.0.6'\u001b[0m\n",
      "/Users/chris/Documents/UR/SENIOR/CSC412/Projects/Final/CLP/CoffeeModel/en_Coff_Ev1-1.0.6\n",
      "running bdist_wheel\n",
      "running build\n",
      "running build_py\n",
      "creating build\n",
      "creating build/lib\n",
      "creating build/lib/en_Coff_Ev1\n",
      "copying en_Coff_Ev1/__init__.py -> build/lib/en_Coff_Ev1\n",
      "creating build/lib/en_Coff_Ev1/en_Coff_Ev1-1.0.6\n",
      "copying en_Coff_Ev1/en_Coff_Ev1-1.0.6/tokenizer -> build/lib/en_Coff_Ev1/en_Coff_Ev1-1.0.6\n",
      "copying en_Coff_Ev1/en_Coff_Ev1-1.0.6/config.cfg -> build/lib/en_Coff_Ev1/en_Coff_Ev1-1.0.6\n",
      "copying en_Coff_Ev1/en_Coff_Ev1-1.0.6/README.md -> build/lib/en_Coff_Ev1/en_Coff_Ev1-1.0.6\n",
      "copying en_Coff_Ev1/en_Coff_Ev1-1.0.6/meta.json -> build/lib/en_Coff_Ev1/en_Coff_Ev1-1.0.6\n",
      "creating build/lib/en_Coff_Ev1/en_Coff_Ev1-1.0.6/ner\n",
      "copying en_Coff_Ev1/en_Coff_Ev1-1.0.6/ner/moves -> build/lib/en_Coff_Ev1/en_Coff_Ev1-1.0.6/ner\n",
      "copying en_Coff_Ev1/en_Coff_Ev1-1.0.6/ner/cfg -> build/lib/en_Coff_Ev1/en_Coff_Ev1-1.0.6/ner\n",
      "copying en_Coff_Ev1/en_Coff_Ev1-1.0.6/ner/model -> build/lib/en_Coff_Ev1/en_Coff_Ev1-1.0.6/ner\n",
      "creating build/lib/en_Coff_Ev1/en_Coff_Ev1-1.0.6/vocab\n",
      "copying en_Coff_Ev1/en_Coff_Ev1-1.0.6/vocab/vectors -> build/lib/en_Coff_Ev1/en_Coff_Ev1-1.0.6/vocab\n",
      "copying en_Coff_Ev1/en_Coff_Ev1-1.0.6/vocab/lookups.bin -> build/lib/en_Coff_Ev1/en_Coff_Ev1-1.0.6/vocab\n",
      "copying en_Coff_Ev1/en_Coff_Ev1-1.0.6/vocab/strings.json -> build/lib/en_Coff_Ev1/en_Coff_Ev1-1.0.6/vocab\n",
      "copying en_Coff_Ev1/en_Coff_Ev1-1.0.6/vocab/key2row -> build/lib/en_Coff_Ev1/en_Coff_Ev1-1.0.6/vocab\n",
      "copying en_Coff_Ev1/en_Coff_Ev1-1.0.6/vocab/vectors.cfg -> build/lib/en_Coff_Ev1/en_Coff_Ev1-1.0.6/vocab\n",
      "creating build/lib/en_Coff_Ev1/en_Coff_Ev1-1.0.6/tok2vec\n",
      "copying en_Coff_Ev1/en_Coff_Ev1-1.0.6/tok2vec/cfg -> build/lib/en_Coff_Ev1/en_Coff_Ev1-1.0.6/tok2vec\n",
      "copying en_Coff_Ev1/en_Coff_Ev1-1.0.6/tok2vec/model -> build/lib/en_Coff_Ev1/en_Coff_Ev1-1.0.6/tok2vec\n",
      "copying en_Coff_Ev1/meta.json -> build/lib/en_Coff_Ev1\n",
      "installing to build/bdist.macosx-10.9-x86_64/wheel\n",
      "running install\n",
      "running install_lib\n",
      "creating build/bdist.macosx-10.9-x86_64\n",
      "creating build/bdist.macosx-10.9-x86_64/wheel\n",
      "creating build/bdist.macosx-10.9-x86_64/wheel/en_Coff_Ev1\n",
      "creating build/bdist.macosx-10.9-x86_64/wheel/en_Coff_Ev1/en_Coff_Ev1-1.0.6\n",
      "creating build/bdist.macosx-10.9-x86_64/wheel/en_Coff_Ev1/en_Coff_Ev1-1.0.6/ner\n",
      "copying build/lib/en_Coff_Ev1/en_Coff_Ev1-1.0.6/ner/moves -> build/bdist.macosx-10.9-x86_64/wheel/en_Coff_Ev1/en_Coff_Ev1-1.0.6/ner\n",
      "copying build/lib/en_Coff_Ev1/en_Coff_Ev1-1.0.6/ner/cfg -> build/bdist.macosx-10.9-x86_64/wheel/en_Coff_Ev1/en_Coff_Ev1-1.0.6/ner\n",
      "copying build/lib/en_Coff_Ev1/en_Coff_Ev1-1.0.6/ner/model -> build/bdist.macosx-10.9-x86_64/wheel/en_Coff_Ev1/en_Coff_Ev1-1.0.6/ner\n",
      "copying build/lib/en_Coff_Ev1/en_Coff_Ev1-1.0.6/tokenizer -> build/bdist.macosx-10.9-x86_64/wheel/en_Coff_Ev1/en_Coff_Ev1-1.0.6\n",
      "creating build/bdist.macosx-10.9-x86_64/wheel/en_Coff_Ev1/en_Coff_Ev1-1.0.6/vocab\n",
      "copying build/lib/en_Coff_Ev1/en_Coff_Ev1-1.0.6/vocab/vectors -> build/bdist.macosx-10.9-x86_64/wheel/en_Coff_Ev1/en_Coff_Ev1-1.0.6/vocab\n",
      "copying build/lib/en_Coff_Ev1/en_Coff_Ev1-1.0.6/vocab/lookups.bin -> build/bdist.macosx-10.9-x86_64/wheel/en_Coff_Ev1/en_Coff_Ev1-1.0.6/vocab\n",
      "copying build/lib/en_Coff_Ev1/en_Coff_Ev1-1.0.6/vocab/strings.json -> build/bdist.macosx-10.9-x86_64/wheel/en_Coff_Ev1/en_Coff_Ev1-1.0.6/vocab\n",
      "copying build/lib/en_Coff_Ev1/en_Coff_Ev1-1.0.6/vocab/key2row -> build/bdist.macosx-10.9-x86_64/wheel/en_Coff_Ev1/en_Coff_Ev1-1.0.6/vocab\n",
      "copying build/lib/en_Coff_Ev1/en_Coff_Ev1-1.0.6/vocab/vectors.cfg -> build/bdist.macosx-10.9-x86_64/wheel/en_Coff_Ev1/en_Coff_Ev1-1.0.6/vocab\n",
      "copying build/lib/en_Coff_Ev1/en_Coff_Ev1-1.0.6/config.cfg -> build/bdist.macosx-10.9-x86_64/wheel/en_Coff_Ev1/en_Coff_Ev1-1.0.6\n",
      "copying build/lib/en_Coff_Ev1/en_Coff_Ev1-1.0.6/README.md -> build/bdist.macosx-10.9-x86_64/wheel/en_Coff_Ev1/en_Coff_Ev1-1.0.6\n",
      "creating build/bdist.macosx-10.9-x86_64/wheel/en_Coff_Ev1/en_Coff_Ev1-1.0.6/tok2vec\n",
      "copying build/lib/en_Coff_Ev1/en_Coff_Ev1-1.0.6/tok2vec/cfg -> build/bdist.macosx-10.9-x86_64/wheel/en_Coff_Ev1/en_Coff_Ev1-1.0.6/tok2vec\n",
      "copying build/lib/en_Coff_Ev1/en_Coff_Ev1-1.0.6/tok2vec/model -> build/bdist.macosx-10.9-x86_64/wheel/en_Coff_Ev1/en_Coff_Ev1-1.0.6/tok2vec\n",
      "copying build/lib/en_Coff_Ev1/en_Coff_Ev1-1.0.6/meta.json -> build/bdist.macosx-10.9-x86_64/wheel/en_Coff_Ev1/en_Coff_Ev1-1.0.6\n",
      "copying build/lib/en_Coff_Ev1/__init__.py -> build/bdist.macosx-10.9-x86_64/wheel/en_Coff_Ev1\n",
      "copying build/lib/en_Coff_Ev1/meta.json -> build/bdist.macosx-10.9-x86_64/wheel/en_Coff_Ev1\n",
      "running install_egg_info\n",
      "running egg_info\n",
      "creating en_Coff_Ev1.egg-info\n",
      "writing en_Coff_Ev1.egg-info/PKG-INFO\n",
      "writing dependency_links to en_Coff_Ev1.egg-info/dependency_links.txt\n",
      "writing entry points to en_Coff_Ev1.egg-info/entry_points.txt\n",
      "writing requirements to en_Coff_Ev1.egg-info/requires.txt\n",
      "writing top-level names to en_Coff_Ev1.egg-info/top_level.txt\n",
      "writing manifest file 'en_Coff_Ev1.egg-info/SOURCES.txt'\n",
      "reading manifest file 'en_Coff_Ev1.egg-info/SOURCES.txt'\n",
      "reading manifest template 'MANIFEST.in'\n",
      "warning: no files found matching 'LICENSE'\n",
      "warning: no files found matching 'LICENSES_SOURCES'\n",
      "writing manifest file 'en_Coff_Ev1.egg-info/SOURCES.txt'\n",
      "Copying en_Coff_Ev1.egg-info to build/bdist.macosx-10.9-x86_64/wheel/en_Coff_Ev1-1.0.6-py3.9.egg-info\n",
      "running install_scripts\n",
      "creating build/bdist.macosx-10.9-x86_64/wheel/en_Coff_Ev1-1.0.6.dist-info/WHEEL\n",
      "creating 'dist/en_Coff_Ev1-1.0.6-py3-none-any.whl' and adding 'build/bdist.macosx-10.9-x86_64/wheel' to it\n",
      "adding 'en_Coff_Ev1/__init__.py'\n",
      "adding 'en_Coff_Ev1/meta.json'\n",
      "adding 'en_Coff_Ev1/en_Coff_Ev1-1.0.6/README.md'\n",
      "adding 'en_Coff_Ev1/en_Coff_Ev1-1.0.6/config.cfg'\n",
      "adding 'en_Coff_Ev1/en_Coff_Ev1-1.0.6/meta.json'\n",
      "adding 'en_Coff_Ev1/en_Coff_Ev1-1.0.6/tokenizer'\n",
      "adding 'en_Coff_Ev1/en_Coff_Ev1-1.0.6/ner/cfg'\n",
      "adding 'en_Coff_Ev1/en_Coff_Ev1-1.0.6/ner/model'\n",
      "adding 'en_Coff_Ev1/en_Coff_Ev1-1.0.6/ner/moves'\n",
      "adding 'en_Coff_Ev1/en_Coff_Ev1-1.0.6/tok2vec/cfg'\n",
      "adding 'en_Coff_Ev1/en_Coff_Ev1-1.0.6/tok2vec/model'\n",
      "adding 'en_Coff_Ev1/en_Coff_Ev1-1.0.6/vocab/key2row'\n",
      "adding 'en_Coff_Ev1/en_Coff_Ev1-1.0.6/vocab/lookups.bin'\n",
      "adding 'en_Coff_Ev1/en_Coff_Ev1-1.0.6/vocab/strings.json'\n",
      "adding 'en_Coff_Ev1/en_Coff_Ev1-1.0.6/vocab/vectors'\n",
      "adding 'en_Coff_Ev1/en_Coff_Ev1-1.0.6/vocab/vectors.cfg'\n",
      "adding 'en_Coff_Ev1-1.0.6.dist-info/METADATA'\n",
      "adding 'en_Coff_Ev1-1.0.6.dist-info/WHEEL'\n",
      "adding 'en_Coff_Ev1-1.0.6.dist-info/entry_points.txt'\n",
      "adding 'en_Coff_Ev1-1.0.6.dist-info/top_level.txt'\n",
      "adding 'en_Coff_Ev1-1.0.6.dist-info/RECORD'\n",
      "removing build/bdist.macosx-10.9-x86_64/wheel\n",
      "\u001b[38;5;2m✔ Successfully created binary wheel\u001b[0m\n",
      "/Users/chris/Documents/UR/SENIOR/CSC412/Projects/Final/CLP/CoffeeModel/en_Coff_Ev1-1.0.6/dist/en_Coff_Ev1-1.0.6-py3-none-any.whl\n"
     ]
    }
   ],
   "source": [
    "!python -m spacy package \"/Users/chris/Documents/UR/SENIOR/CSC412/Projects/Final/CLP/output_folder/model-best\" \"/Users/chris/Documents/UR/SENIOR/CSC412/Projects/Final/CLP/CoffeeModel\" --build wheel"
   ]
  },
  {
   "cell_type": "code",
   "execution_count": 27,
   "metadata": {},
   "outputs": [
    {
     "name": "stdout",
     "output_type": "stream",
     "text": [
      "\u001b[38;5;4mℹ Publishing to repository 'cbruinsm/en_Coff_Ev1'\u001b[0m\n",
      "result /var/folders/0s/40sd363j3hv3vw2_9nmxhrrh0000gn/T/tmprdroi37g/en_Coff_Ev1/meta.json en_Coff_Ev1/meta.json\n",
      "result /var/folders/0s/40sd363j3hv3vw2_9nmxhrrh0000gn/T/tmprdroi37g/en_Coff_Ev1/en_Coff_Ev1-1.0.6/README.md en_Coff_Ev1/en_Coff_Ev1-1.0.6/README.md\n",
      "result /var/folders/0s/40sd363j3hv3vw2_9nmxhrrh0000gn/T/tmprdroi37g/en_Coff_Ev1/en_Coff_Ev1-1.0.6/config.cfg en_Coff_Ev1/en_Coff_Ev1-1.0.6/config.cfg\n",
      "result /var/folders/0s/40sd363j3hv3vw2_9nmxhrrh0000gn/T/tmprdroi37g/en_Coff_Ev1/en_Coff_Ev1-1.0.6/meta.json en_Coff_Ev1/en_Coff_Ev1-1.0.6/meta.json\n",
      "result /var/folders/0s/40sd363j3hv3vw2_9nmxhrrh0000gn/T/tmprdroi37g/en_Coff_Ev1/en_Coff_Ev1-1.0.6/tokenizer en_Coff_Ev1/en_Coff_Ev1-1.0.6/tokenizer\n",
      "result /var/folders/0s/40sd363j3hv3vw2_9nmxhrrh0000gn/T/tmprdroi37g/en_Coff_Ev1/en_Coff_Ev1-1.0.6/ner/cfg en_Coff_Ev1/en_Coff_Ev1-1.0.6/ner/cfg\n",
      "result /var/folders/0s/40sd363j3hv3vw2_9nmxhrrh0000gn/T/tmprdroi37g/en_Coff_Ev1/en_Coff_Ev1-1.0.6/ner/model en_Coff_Ev1/en_Coff_Ev1-1.0.6/ner/model\n",
      "result /var/folders/0s/40sd363j3hv3vw2_9nmxhrrh0000gn/T/tmprdroi37g/en_Coff_Ev1/en_Coff_Ev1-1.0.6/ner/moves en_Coff_Ev1/en_Coff_Ev1-1.0.6/ner/moves\n",
      "result /var/folders/0s/40sd363j3hv3vw2_9nmxhrrh0000gn/T/tmprdroi37g/en_Coff_Ev1/en_Coff_Ev1-1.0.6/tok2vec/cfg en_Coff_Ev1/en_Coff_Ev1-1.0.6/tok2vec/cfg\n",
      "result /var/folders/0s/40sd363j3hv3vw2_9nmxhrrh0000gn/T/tmprdroi37g/en_Coff_Ev1/en_Coff_Ev1-1.0.6/tok2vec/model en_Coff_Ev1/en_Coff_Ev1-1.0.6/tok2vec/model\n",
      "result /var/folders/0s/40sd363j3hv3vw2_9nmxhrrh0000gn/T/tmprdroi37g/en_Coff_Ev1/en_Coff_Ev1-1.0.6/vocab/key2row en_Coff_Ev1/en_Coff_Ev1-1.0.6/vocab/key2row\n",
      "result /var/folders/0s/40sd363j3hv3vw2_9nmxhrrh0000gn/T/tmprdroi37g/en_Coff_Ev1/en_Coff_Ev1-1.0.6/vocab/lookups.bin en_Coff_Ev1/en_Coff_Ev1-1.0.6/vocab/lookups.bin\n",
      "result /var/folders/0s/40sd363j3hv3vw2_9nmxhrrh0000gn/T/tmprdroi37g/en_Coff_Ev1/en_Coff_Ev1-1.0.6/vocab/strings.json en_Coff_Ev1/en_Coff_Ev1-1.0.6/vocab/strings.json\n",
      "result /var/folders/0s/40sd363j3hv3vw2_9nmxhrrh0000gn/T/tmprdroi37g/en_Coff_Ev1/en_Coff_Ev1-1.0.6/vocab/vectors en_Coff_Ev1/en_Coff_Ev1-1.0.6/vocab/vectors\n",
      "result /var/folders/0s/40sd363j3hv3vw2_9nmxhrrh0000gn/T/tmprdroi37g/en_Coff_Ev1/en_Coff_Ev1-1.0.6/vocab/vectors.cfg en_Coff_Ev1/en_Coff_Ev1-1.0.6/vocab/vectors.cfg\n",
      "result /var/folders/0s/40sd363j3hv3vw2_9nmxhrrh0000gn/T/tmprdroi37g/en_Coff_Ev1-1.0.6.dist-info/METADATA en_Coff_Ev1-1.0.6.dist-info/METADATA\n",
      "result /var/folders/0s/40sd363j3hv3vw2_9nmxhrrh0000gn/T/tmprdroi37g/en_Coff_Ev1-1.0.6.dist-info/WHEEL en_Coff_Ev1-1.0.6.dist-info/WHEEL\n",
      "result /var/folders/0s/40sd363j3hv3vw2_9nmxhrrh0000gn/T/tmprdroi37g/en_Coff_Ev1-1.0.6.dist-info/entry_points.txt en_Coff_Ev1-1.0.6.dist-info/entry_points.txt\n",
      "result /var/folders/0s/40sd363j3hv3vw2_9nmxhrrh0000gn/T/tmprdroi37g/en_Coff_Ev1-1.0.6.dist-info/top_level.txt en_Coff_Ev1-1.0.6.dist-info/top_level.txt\n",
      "result /var/folders/0s/40sd363j3hv3vw2_9nmxhrrh0000gn/T/tmprdroi37g/en_Coff_Ev1-1.0.6.dist-info/RECORD en_Coff_Ev1-1.0.6.dist-info/RECORD\n",
      "\u001b[38;5;2m✔ Extracted information from .whl file\u001b[0m\n",
      "\u001b[38;5;2m✔ Created model card\u001b[0m\n",
      "en_Coff_Ev1 (v1.0.6)\n",
      "Pushing repository to the hub...\n",
      "\u001b[38;5;2m✔ Pushed repository 'en_Coff_Ev1' to the hub\u001b[0m\n",
      "\n",
      "View your model here:\n",
      "https://huggingface.co/cbruinsm/en_Coff_Ev1\n",
      "\n",
      "Install your model:\n",
      "pip install https://huggingface.co/cbruinsm/en_Coff_Ev1/resolve/main/en_Coff_Ev1-any-py3-none-any.whl\n"
     ]
    }
   ],
   "source": [
    "from spacy_huggingface_hub import push\n",
    "\n",
    "result = push(\"/Users/chris/Documents/UR/SENIOR/CSC412/Projects/Final/CLP/CoffeeModel/en_Coff_Ev1-1.0.6/dist/en_Coff_Ev1-1.0.6-py3-none-any.whl\")"
   ]
  },
  {
   "cell_type": "markdown",
   "metadata": {},
   "source": []
  }
 ],
 "metadata": {
  "kernelspec": {
   "display_name": "Python 3.10.6 ('data_mining')",
   "language": "python",
   "name": "python3"
  },
  "language_info": {
   "codemirror_mode": {
    "name": "ipython",
    "version": 3
   },
   "file_extension": ".py",
   "mimetype": "text/x-python",
   "name": "python",
   "nbconvert_exporter": "python",
   "pygments_lexer": "ipython3",
   "version": "3.10.6"
  },
  "orig_nbformat": 4,
  "vscode": {
   "interpreter": {
    "hash": "2298ba359fbae6d6158f8907234987863a11850c54e05a14a74225930b181c78"
   }
  }
 },
 "nbformat": 4,
 "nbformat_minor": 2
}
