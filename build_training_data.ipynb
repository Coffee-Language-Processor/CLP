{
 "cells": [
  {
   "cell_type": "code",
   "execution_count": 26,
   "metadata": {},
   "outputs": [],
   "source": [
    "import ujson"
   ]
  },
  {
   "cell_type": "code",
   "execution_count": 33,
   "metadata": {},
   "outputs": [],
   "source": [
    "filename = 'data4.json' ## insert filename here\n",
    "with open(filename) as f:\n",
    "    data = ujson.load(f)\n",
    "\n",
    "TRAINING_DATA = []"
   ]
  },
  {
   "cell_type": "code",
   "execution_count": 34,
   "metadata": {},
   "outputs": [],
   "source": [
    "for d in data:\n",
    "    tuple_1 = d['data']['response']\n",
    "    tuple_2 = {}\n",
    "    entities = []\n",
    "    results = d['annotations'][0]['result']\n",
    "    for x in results:\n",
    "        entities.append((x['value']['start'],  x['value']['end'], x['value']['labels'][0]))\n",
    "    tuple_2['entities'] = entities\n",
    "    TRAINING_DATA.append((tuple_1, tuple_2))"
   ]
  },
  {
   "cell_type": "code",
   "execution_count": 35,
   "metadata": {},
   "outputs": [
    {
     "name": "stdout",
     "output_type": "stream",
     "text": [
      "8\n"
     ]
    }
   ],
   "source": [
    "from spacy.tokens import DocBin\n",
    "import spacy\n",
    "db = DocBin()\n",
    "nlp = spacy.blank(\"en\")\n",
    "\n",
    "bad = 0\n",
    "\n",
    "for text, annotations in TRAINING_DATA:\n",
    "    doc = nlp(text)\n",
    "    ents = []\n",
    "    for start, end, label in annotations['entities']:\n",
    "        # print(text, text[start:end], label)\n",
    "        span = doc.char_span(start, end, label=label)\n",
    "        ents.append(span)\n",
    "    try:\n",
    "        doc.ents = ents\n",
    "        db.add(doc)\n",
    "    except:\n",
    "        bad += 1\n",
    "db.to_disk(\"./train.spacy\")\n",
    "print(bad)\n"
   ]
  },
  {
   "cell_type": "code",
   "execution_count": 36,
   "metadata": {},
   "outputs": [
    {
     "name": "stdout",
     "output_type": "stream",
     "text": [
      "^C\n",
      "Traceback (most recent call last):\n",
      "  File \"/Users/chris/miniconda3/lib/python3.9/runpy.py\", line 188, in _run_module_as_main\n",
      "    mod_name, mod_spec, code = _get_module_details(mod_name, _Error)\n",
      "  File \"/Users/chris/miniconda3/lib/python3.9/runpy.py\", line 147, in _get_module_details\n",
      "    return _get_module_details(pkg_main_name, error)\n",
      "  File \"/Users/chris/miniconda3/lib/python3.9/runpy.py\", line 111, in _get_module_details\n",
      "    __import__(pkg_name)\n",
      "  File \"/Users/chris/miniconda3/lib/python3.9/site-packages/spacy/__init__.py\", line 6, in <module>\n",
      "    from .errors import setup_default_warnings\n",
      "  File \"/Users/chris/miniconda3/lib/python3.9/site-packages/spacy/errors.py\", line 2, in <module>\n",
      "    from .compat import Literal\n",
      "  File \"/Users/chris/miniconda3/lib/python3.9/site-packages/spacy/compat.py\", line 3, in <module>\n",
      "    from thinc.util import copy_array\n",
      "  File \"/Users/chris/miniconda3/lib/python3.9/site-packages/thinc/__init__.py\", line 5, in <module>\n",
      "    from .config import registry\n",
      "  File \"/Users/chris/miniconda3/lib/python3.9/site-packages/thinc/config.py\", line 2, in <module>\n",
      "    import confection\n",
      "  File \"/Users/chris/miniconda3/lib/python3.9/site-packages/confection/__init__.py\", line 13, in <module>\n",
      "    import srsly\n",
      "  File \"/Users/chris/miniconda3/lib/python3.9/site-packages/srsly/__init__.py\", line 4, in <module>\n",
      "    from ._msgpack_api import read_msgpack, write_msgpack, msgpack_dumps, msgpack_loads\n",
      "  File \"/Users/chris/miniconda3/lib/python3.9/site-packages/srsly/_msgpack_api.py\", line 3, in <module>\n",
      "    from . import msgpack\n",
      "  File \"/Users/chris/miniconda3/lib/python3.9/site-packages/srsly/msgpack/__init__.py\", line 13, in <module>\n",
      "    from ._msgpack_numpy import encode_numpy as _encode_numpy\n",
      "  File \"<frozen importlib._bootstrap>\", line 1007, in _find_and_load\n",
      "  File \"<frozen importlib._bootstrap>\", line 986, in _find_and_load_unlocked\n",
      "  File \"<frozen importlib._bootstrap>\", line 680, in _load_unlocked\n",
      "  File \"<frozen importlib._bootstrap_external>\", line 846, in exec_module\n",
      "  File \"<frozen importlib._bootstrap_external>\", line 941, in get_code\n",
      "  File \"<frozen importlib._bootstrap_external>\", line 1040, in get_data\n",
      "KeyboardInterrupt\n"
     ]
    }
   ],
   "source": [
    "!python -m spacy train config.cfg --paths.train train.spacy --paths.dev train.spacy --output output_folder"
   ]
  },
  {
   "cell_type": "code",
   "execution_count": 42,
   "metadata": {},
   "outputs": [
    {
     "name": "stdout",
     "output_type": "stream",
     "text": [
      "\u001b[38;5;4mℹ Building package artifacts: wheel\u001b[0m\n",
      "\u001b[38;5;2m✔ Loaded meta.json from file\u001b[0m\n",
      "/Users/chris/Documents/UR/SENIOR/CSC412/Projects/Final/CLP/output_folder/model-best/meta.json\n",
      "\u001b[38;5;2m✔ Generated README.md from meta.json\u001b[0m\n",
      "\u001b[38;5;2m✔ Successfully created package directory 'en_Coff_Ev1-1.1.0'\u001b[0m\n",
      "/Users/chris/Documents/UR/SENIOR/CSC412/Projects/Final/CLP/CoffeeModels/en_Coff_Ev1-1.1.0\n",
      "running bdist_wheel\n",
      "running build\n",
      "running build_py\n",
      "creating build\n",
      "creating build/lib\n",
      "creating build/lib/en_Coff_Ev1\n",
      "copying en_Coff_Ev1/__init__.py -> build/lib/en_Coff_Ev1\n",
      "creating build/lib/en_Coff_Ev1/en_Coff_Ev1-1.1.0\n",
      "copying en_Coff_Ev1/en_Coff_Ev1-1.1.0/tokenizer -> build/lib/en_Coff_Ev1/en_Coff_Ev1-1.1.0\n",
      "copying en_Coff_Ev1/en_Coff_Ev1-1.1.0/config.cfg -> build/lib/en_Coff_Ev1/en_Coff_Ev1-1.1.0\n",
      "copying en_Coff_Ev1/en_Coff_Ev1-1.1.0/README.md -> build/lib/en_Coff_Ev1/en_Coff_Ev1-1.1.0\n",
      "copying en_Coff_Ev1/en_Coff_Ev1-1.1.0/meta.json -> build/lib/en_Coff_Ev1/en_Coff_Ev1-1.1.0\n",
      "creating build/lib/en_Coff_Ev1/en_Coff_Ev1-1.1.0/ner\n",
      "copying en_Coff_Ev1/en_Coff_Ev1-1.1.0/ner/moves -> build/lib/en_Coff_Ev1/en_Coff_Ev1-1.1.0/ner\n",
      "copying en_Coff_Ev1/en_Coff_Ev1-1.1.0/ner/cfg -> build/lib/en_Coff_Ev1/en_Coff_Ev1-1.1.0/ner\n",
      "copying en_Coff_Ev1/en_Coff_Ev1-1.1.0/ner/model -> build/lib/en_Coff_Ev1/en_Coff_Ev1-1.1.0/ner\n",
      "creating build/lib/en_Coff_Ev1/en_Coff_Ev1-1.1.0/vocab\n",
      "copying en_Coff_Ev1/en_Coff_Ev1-1.1.0/vocab/vectors -> build/lib/en_Coff_Ev1/en_Coff_Ev1-1.1.0/vocab\n",
      "copying en_Coff_Ev1/en_Coff_Ev1-1.1.0/vocab/lookups.bin -> build/lib/en_Coff_Ev1/en_Coff_Ev1-1.1.0/vocab\n",
      "copying en_Coff_Ev1/en_Coff_Ev1-1.1.0/vocab/strings.json -> build/lib/en_Coff_Ev1/en_Coff_Ev1-1.1.0/vocab\n",
      "copying en_Coff_Ev1/en_Coff_Ev1-1.1.0/vocab/key2row -> build/lib/en_Coff_Ev1/en_Coff_Ev1-1.1.0/vocab\n",
      "copying en_Coff_Ev1/en_Coff_Ev1-1.1.0/vocab/vectors.cfg -> build/lib/en_Coff_Ev1/en_Coff_Ev1-1.1.0/vocab\n",
      "creating build/lib/en_Coff_Ev1/en_Coff_Ev1-1.1.0/tok2vec\n",
      "copying en_Coff_Ev1/en_Coff_Ev1-1.1.0/tok2vec/cfg -> build/lib/en_Coff_Ev1/en_Coff_Ev1-1.1.0/tok2vec\n",
      "copying en_Coff_Ev1/en_Coff_Ev1-1.1.0/tok2vec/model -> build/lib/en_Coff_Ev1/en_Coff_Ev1-1.1.0/tok2vec\n",
      "copying en_Coff_Ev1/meta.json -> build/lib/en_Coff_Ev1\n",
      "installing to build/bdist.macosx-10.9-x86_64/wheel\n",
      "running install\n",
      "running install_lib\n",
      "creating build/bdist.macosx-10.9-x86_64\n",
      "creating build/bdist.macosx-10.9-x86_64/wheel\n",
      "creating build/bdist.macosx-10.9-x86_64/wheel/en_Coff_Ev1\n",
      "copying build/lib/en_Coff_Ev1/__init__.py -> build/bdist.macosx-10.9-x86_64/wheel/en_Coff_Ev1\n",
      "creating build/bdist.macosx-10.9-x86_64/wheel/en_Coff_Ev1/en_Coff_Ev1-1.1.0\n",
      "creating build/bdist.macosx-10.9-x86_64/wheel/en_Coff_Ev1/en_Coff_Ev1-1.1.0/ner\n",
      "copying build/lib/en_Coff_Ev1/en_Coff_Ev1-1.1.0/ner/moves -> build/bdist.macosx-10.9-x86_64/wheel/en_Coff_Ev1/en_Coff_Ev1-1.1.0/ner\n",
      "copying build/lib/en_Coff_Ev1/en_Coff_Ev1-1.1.0/ner/cfg -> build/bdist.macosx-10.9-x86_64/wheel/en_Coff_Ev1/en_Coff_Ev1-1.1.0/ner\n",
      "copying build/lib/en_Coff_Ev1/en_Coff_Ev1-1.1.0/ner/model -> build/bdist.macosx-10.9-x86_64/wheel/en_Coff_Ev1/en_Coff_Ev1-1.1.0/ner\n",
      "copying build/lib/en_Coff_Ev1/en_Coff_Ev1-1.1.0/tokenizer -> build/bdist.macosx-10.9-x86_64/wheel/en_Coff_Ev1/en_Coff_Ev1-1.1.0\n",
      "creating build/bdist.macosx-10.9-x86_64/wheel/en_Coff_Ev1/en_Coff_Ev1-1.1.0/vocab\n",
      "copying build/lib/en_Coff_Ev1/en_Coff_Ev1-1.1.0/vocab/vectors -> build/bdist.macosx-10.9-x86_64/wheel/en_Coff_Ev1/en_Coff_Ev1-1.1.0/vocab\n",
      "copying build/lib/en_Coff_Ev1/en_Coff_Ev1-1.1.0/vocab/lookups.bin -> build/bdist.macosx-10.9-x86_64/wheel/en_Coff_Ev1/en_Coff_Ev1-1.1.0/vocab\n",
      "copying build/lib/en_Coff_Ev1/en_Coff_Ev1-1.1.0/vocab/strings.json -> build/bdist.macosx-10.9-x86_64/wheel/en_Coff_Ev1/en_Coff_Ev1-1.1.0/vocab\n",
      "copying build/lib/en_Coff_Ev1/en_Coff_Ev1-1.1.0/vocab/key2row -> build/bdist.macosx-10.9-x86_64/wheel/en_Coff_Ev1/en_Coff_Ev1-1.1.0/vocab\n",
      "copying build/lib/en_Coff_Ev1/en_Coff_Ev1-1.1.0/vocab/vectors.cfg -> build/bdist.macosx-10.9-x86_64/wheel/en_Coff_Ev1/en_Coff_Ev1-1.1.0/vocab\n",
      "copying build/lib/en_Coff_Ev1/en_Coff_Ev1-1.1.0/config.cfg -> build/bdist.macosx-10.9-x86_64/wheel/en_Coff_Ev1/en_Coff_Ev1-1.1.0\n",
      "copying build/lib/en_Coff_Ev1/en_Coff_Ev1-1.1.0/README.md -> build/bdist.macosx-10.9-x86_64/wheel/en_Coff_Ev1/en_Coff_Ev1-1.1.0\n",
      "creating build/bdist.macosx-10.9-x86_64/wheel/en_Coff_Ev1/en_Coff_Ev1-1.1.0/tok2vec\n",
      "copying build/lib/en_Coff_Ev1/en_Coff_Ev1-1.1.0/tok2vec/cfg -> build/bdist.macosx-10.9-x86_64/wheel/en_Coff_Ev1/en_Coff_Ev1-1.1.0/tok2vec\n",
      "copying build/lib/en_Coff_Ev1/en_Coff_Ev1-1.1.0/tok2vec/model -> build/bdist.macosx-10.9-x86_64/wheel/en_Coff_Ev1/en_Coff_Ev1-1.1.0/tok2vec\n",
      "copying build/lib/en_Coff_Ev1/en_Coff_Ev1-1.1.0/meta.json -> build/bdist.macosx-10.9-x86_64/wheel/en_Coff_Ev1/en_Coff_Ev1-1.1.0\n",
      "copying build/lib/en_Coff_Ev1/meta.json -> build/bdist.macosx-10.9-x86_64/wheel/en_Coff_Ev1\n",
      "running install_egg_info\n",
      "running egg_info\n",
      "creating en_Coff_Ev1.egg-info\n",
      "writing en_Coff_Ev1.egg-info/PKG-INFO\n",
      "writing dependency_links to en_Coff_Ev1.egg-info/dependency_links.txt\n",
      "writing entry points to en_Coff_Ev1.egg-info/entry_points.txt\n",
      "writing requirements to en_Coff_Ev1.egg-info/requires.txt\n",
      "writing top-level names to en_Coff_Ev1.egg-info/top_level.txt\n",
      "writing manifest file 'en_Coff_Ev1.egg-info/SOURCES.txt'\n",
      "reading manifest file 'en_Coff_Ev1.egg-info/SOURCES.txt'\n",
      "reading manifest template 'MANIFEST.in'\n",
      "warning: no files found matching 'LICENSE'\n",
      "warning: no files found matching 'LICENSES_SOURCES'\n",
      "writing manifest file 'en_Coff_Ev1.egg-info/SOURCES.txt'\n",
      "Copying en_Coff_Ev1.egg-info to build/bdist.macosx-10.9-x86_64/wheel/en_Coff_Ev1-1.1.0-py3.9.egg-info\n",
      "running install_scripts\n",
      "creating build/bdist.macosx-10.9-x86_64/wheel/en_Coff_Ev1-1.1.0.dist-info/WHEEL\n",
      "creating 'dist/en_Coff_Ev1-1.1.0-py3-none-any.whl' and adding 'build/bdist.macosx-10.9-x86_64/wheel' to it\n",
      "adding 'en_Coff_Ev1/__init__.py'\n",
      "adding 'en_Coff_Ev1/meta.json'\n",
      "adding 'en_Coff_Ev1/en_Coff_Ev1-1.1.0/README.md'\n",
      "adding 'en_Coff_Ev1/en_Coff_Ev1-1.1.0/config.cfg'\n",
      "adding 'en_Coff_Ev1/en_Coff_Ev1-1.1.0/meta.json'\n",
      "adding 'en_Coff_Ev1/en_Coff_Ev1-1.1.0/tokenizer'\n",
      "adding 'en_Coff_Ev1/en_Coff_Ev1-1.1.0/ner/cfg'\n",
      "adding 'en_Coff_Ev1/en_Coff_Ev1-1.1.0/ner/model'\n",
      "adding 'en_Coff_Ev1/en_Coff_Ev1-1.1.0/ner/moves'\n",
      "adding 'en_Coff_Ev1/en_Coff_Ev1-1.1.0/tok2vec/cfg'\n",
      "adding 'en_Coff_Ev1/en_Coff_Ev1-1.1.0/tok2vec/model'\n",
      "adding 'en_Coff_Ev1/en_Coff_Ev1-1.1.0/vocab/key2row'\n",
      "adding 'en_Coff_Ev1/en_Coff_Ev1-1.1.0/vocab/lookups.bin'\n",
      "adding 'en_Coff_Ev1/en_Coff_Ev1-1.1.0/vocab/strings.json'\n",
      "adding 'en_Coff_Ev1/en_Coff_Ev1-1.1.0/vocab/vectors'\n",
      "adding 'en_Coff_Ev1/en_Coff_Ev1-1.1.0/vocab/vectors.cfg'\n",
      "adding 'en_Coff_Ev1-1.1.0.dist-info/METADATA'\n",
      "adding 'en_Coff_Ev1-1.1.0.dist-info/WHEEL'\n",
      "adding 'en_Coff_Ev1-1.1.0.dist-info/entry_points.txt'\n",
      "adding 'en_Coff_Ev1-1.1.0.dist-info/top_level.txt'\n",
      "adding 'en_Coff_Ev1-1.1.0.dist-info/RECORD'\n",
      "removing build/bdist.macosx-10.9-x86_64/wheel\n",
      "\u001b[38;5;2m✔ Successfully created binary wheel\u001b[0m\n",
      "/Users/chris/Documents/UR/SENIOR/CSC412/Projects/Final/CLP/CoffeeModels/en_Coff_Ev1-1.1.0/dist/en_Coff_Ev1-1.1.0-py3-none-any.whl\n"
     ]
    }
   ],
   "source": [
    "!python -m spacy package \"/Users/chris/Documents/UR/SENIOR/CSC412/Projects/Final/CLP/output_folder/model-best\" \"/Users/chris/Documents/UR/SENIOR/CSC412/Projects/Final/CLP/CoffeeModels\" --build wheel"
   ]
  },
  {
   "cell_type": "code",
   "execution_count": 43,
   "metadata": {},
   "outputs": [
    {
     "name": "stdout",
     "output_type": "stream",
     "text": [
      "\u001b[38;5;4mℹ Publishing to repository 'cbruinsm/en_Coff_Ev1'\u001b[0m\n",
      "result /var/folders/0s/40sd363j3hv3vw2_9nmxhrrh0000gn/T/tmpq3w0q7eu/en_Coff_Ev1/meta.json en_Coff_Ev1/meta.json\n",
      "result /var/folders/0s/40sd363j3hv3vw2_9nmxhrrh0000gn/T/tmpq3w0q7eu/en_Coff_Ev1/en_Coff_Ev1-1.1.0/README.md en_Coff_Ev1/en_Coff_Ev1-1.1.0/README.md\n",
      "result /var/folders/0s/40sd363j3hv3vw2_9nmxhrrh0000gn/T/tmpq3w0q7eu/en_Coff_Ev1/en_Coff_Ev1-1.1.0/config.cfg en_Coff_Ev1/en_Coff_Ev1-1.1.0/config.cfg\n",
      "result /var/folders/0s/40sd363j3hv3vw2_9nmxhrrh0000gn/T/tmpq3w0q7eu/en_Coff_Ev1/en_Coff_Ev1-1.1.0/meta.json en_Coff_Ev1/en_Coff_Ev1-1.1.0/meta.json\n",
      "result /var/folders/0s/40sd363j3hv3vw2_9nmxhrrh0000gn/T/tmpq3w0q7eu/en_Coff_Ev1/en_Coff_Ev1-1.1.0/tokenizer en_Coff_Ev1/en_Coff_Ev1-1.1.0/tokenizer\n",
      "result /var/folders/0s/40sd363j3hv3vw2_9nmxhrrh0000gn/T/tmpq3w0q7eu/en_Coff_Ev1/en_Coff_Ev1-1.1.0/ner/cfg en_Coff_Ev1/en_Coff_Ev1-1.1.0/ner/cfg\n",
      "result /var/folders/0s/40sd363j3hv3vw2_9nmxhrrh0000gn/T/tmpq3w0q7eu/en_Coff_Ev1/en_Coff_Ev1-1.1.0/ner/model en_Coff_Ev1/en_Coff_Ev1-1.1.0/ner/model\n",
      "result /var/folders/0s/40sd363j3hv3vw2_9nmxhrrh0000gn/T/tmpq3w0q7eu/en_Coff_Ev1/en_Coff_Ev1-1.1.0/ner/moves en_Coff_Ev1/en_Coff_Ev1-1.1.0/ner/moves\n",
      "result /var/folders/0s/40sd363j3hv3vw2_9nmxhrrh0000gn/T/tmpq3w0q7eu/en_Coff_Ev1/en_Coff_Ev1-1.1.0/tok2vec/cfg en_Coff_Ev1/en_Coff_Ev1-1.1.0/tok2vec/cfg\n",
      "result /var/folders/0s/40sd363j3hv3vw2_9nmxhrrh0000gn/T/tmpq3w0q7eu/en_Coff_Ev1/en_Coff_Ev1-1.1.0/tok2vec/model en_Coff_Ev1/en_Coff_Ev1-1.1.0/tok2vec/model\n",
      "result /var/folders/0s/40sd363j3hv3vw2_9nmxhrrh0000gn/T/tmpq3w0q7eu/en_Coff_Ev1/en_Coff_Ev1-1.1.0/vocab/key2row en_Coff_Ev1/en_Coff_Ev1-1.1.0/vocab/key2row\n",
      "result /var/folders/0s/40sd363j3hv3vw2_9nmxhrrh0000gn/T/tmpq3w0q7eu/en_Coff_Ev1/en_Coff_Ev1-1.1.0/vocab/lookups.bin en_Coff_Ev1/en_Coff_Ev1-1.1.0/vocab/lookups.bin\n",
      "result /var/folders/0s/40sd363j3hv3vw2_9nmxhrrh0000gn/T/tmpq3w0q7eu/en_Coff_Ev1/en_Coff_Ev1-1.1.0/vocab/strings.json en_Coff_Ev1/en_Coff_Ev1-1.1.0/vocab/strings.json\n",
      "result /var/folders/0s/40sd363j3hv3vw2_9nmxhrrh0000gn/T/tmpq3w0q7eu/en_Coff_Ev1/en_Coff_Ev1-1.1.0/vocab/vectors en_Coff_Ev1/en_Coff_Ev1-1.1.0/vocab/vectors\n",
      "result /var/folders/0s/40sd363j3hv3vw2_9nmxhrrh0000gn/T/tmpq3w0q7eu/en_Coff_Ev1/en_Coff_Ev1-1.1.0/vocab/vectors.cfg en_Coff_Ev1/en_Coff_Ev1-1.1.0/vocab/vectors.cfg\n",
      "result /var/folders/0s/40sd363j3hv3vw2_9nmxhrrh0000gn/T/tmpq3w0q7eu/en_Coff_Ev1-1.1.0.dist-info/METADATA en_Coff_Ev1-1.1.0.dist-info/METADATA\n",
      "result /var/folders/0s/40sd363j3hv3vw2_9nmxhrrh0000gn/T/tmpq3w0q7eu/en_Coff_Ev1-1.1.0.dist-info/WHEEL en_Coff_Ev1-1.1.0.dist-info/WHEEL\n",
      "result /var/folders/0s/40sd363j3hv3vw2_9nmxhrrh0000gn/T/tmpq3w0q7eu/en_Coff_Ev1-1.1.0.dist-info/entry_points.txt en_Coff_Ev1-1.1.0.dist-info/entry_points.txt\n",
      "result /var/folders/0s/40sd363j3hv3vw2_9nmxhrrh0000gn/T/tmpq3w0q7eu/en_Coff_Ev1-1.1.0.dist-info/top_level.txt en_Coff_Ev1-1.1.0.dist-info/top_level.txt\n",
      "result /var/folders/0s/40sd363j3hv3vw2_9nmxhrrh0000gn/T/tmpq3w0q7eu/en_Coff_Ev1-1.1.0.dist-info/RECORD en_Coff_Ev1-1.1.0.dist-info/RECORD\n",
      "\u001b[38;5;2m✔ Extracted information from .whl file\u001b[0m\n",
      "\u001b[38;5;2m✔ Created model card\u001b[0m\n",
      "en_Coff_Ev1 (v1.1.0)\n",
      "Pushing repository to the hub...\n",
      "\u001b[38;5;2m✔ Pushed repository 'en_Coff_Ev1' to the hub\u001b[0m\n",
      "\n",
      "View your model here:\n",
      "https://huggingface.co/cbruinsm/en_Coff_Ev1\n",
      "\n",
      "Install your model:\n",
      "pip install https://huggingface.co/cbruinsm/en_Coff_Ev1/resolve/main/en_Coff_Ev1-any-py3-none-any.whl\n"
     ]
    }
   ],
   "source": [
    "from spacy_huggingface_hub import push\n",
    "\n",
    "result = push(\"/Users/chris/Documents/UR/SENIOR/CSC412/Projects/Final/CLP/CoffeeModels/en_Coff_Ev1-1.1.0/dist/en_Coff_Ev1-1.1.0-py3-none-any.whl\")"
   ]
  },
  {
   "cell_type": "code",
   "execution_count": 40,
   "metadata": {},
   "outputs": [
    {
     "name": "stdout",
     "output_type": "stream",
     "text": [
      "\u001b[38;5;4mℹ Publishing to repository 'cbruinsm/en_Coff_Ev1'\u001b[0m\n",
      "result /var/folders/0s/40sd363j3hv3vw2_9nmxhrrh0000gn/T/tmpmfc6si5e/en_Coff_Ev1/meta.json en_Coff_Ev1/meta.json\n",
      "result /var/folders/0s/40sd363j3hv3vw2_9nmxhrrh0000gn/T/tmpmfc6si5e/en_Coff_Ev1/en_Coff_Ev1-1.1.0/README.md en_Coff_Ev1/en_Coff_Ev1-1.1.0/README.md\n",
      "result /var/folders/0s/40sd363j3hv3vw2_9nmxhrrh0000gn/T/tmpmfc6si5e/en_Coff_Ev1/en_Coff_Ev1-1.1.0/config.cfg en_Coff_Ev1/en_Coff_Ev1-1.1.0/config.cfg\n",
      "result /var/folders/0s/40sd363j3hv3vw2_9nmxhrrh0000gn/T/tmpmfc6si5e/en_Coff_Ev1/en_Coff_Ev1-1.1.0/meta.json en_Coff_Ev1/en_Coff_Ev1-1.1.0/meta.json\n",
      "result /var/folders/0s/40sd363j3hv3vw2_9nmxhrrh0000gn/T/tmpmfc6si5e/en_Coff_Ev1/en_Coff_Ev1-1.1.0/tokenizer en_Coff_Ev1/en_Coff_Ev1-1.1.0/tokenizer\n",
      "result /var/folders/0s/40sd363j3hv3vw2_9nmxhrrh0000gn/T/tmpmfc6si5e/en_Coff_Ev1/en_Coff_Ev1-1.1.0/ner/cfg en_Coff_Ev1/en_Coff_Ev1-1.1.0/ner/cfg\n",
      "result /var/folders/0s/40sd363j3hv3vw2_9nmxhrrh0000gn/T/tmpmfc6si5e/en_Coff_Ev1/en_Coff_Ev1-1.1.0/ner/model en_Coff_Ev1/en_Coff_Ev1-1.1.0/ner/model\n",
      "result /var/folders/0s/40sd363j3hv3vw2_9nmxhrrh0000gn/T/tmpmfc6si5e/en_Coff_Ev1/en_Coff_Ev1-1.1.0/ner/moves en_Coff_Ev1/en_Coff_Ev1-1.1.0/ner/moves\n",
      "result /var/folders/0s/40sd363j3hv3vw2_9nmxhrrh0000gn/T/tmpmfc6si5e/en_Coff_Ev1/en_Coff_Ev1-1.1.0/tok2vec/cfg en_Coff_Ev1/en_Coff_Ev1-1.1.0/tok2vec/cfg\n",
      "result /var/folders/0s/40sd363j3hv3vw2_9nmxhrrh0000gn/T/tmpmfc6si5e/en_Coff_Ev1/en_Coff_Ev1-1.1.0/tok2vec/model en_Coff_Ev1/en_Coff_Ev1-1.1.0/tok2vec/model\n",
      "result /var/folders/0s/40sd363j3hv3vw2_9nmxhrrh0000gn/T/tmpmfc6si5e/en_Coff_Ev1/en_Coff_Ev1-1.1.0/vocab/key2row en_Coff_Ev1/en_Coff_Ev1-1.1.0/vocab/key2row\n",
      "result /var/folders/0s/40sd363j3hv3vw2_9nmxhrrh0000gn/T/tmpmfc6si5e/en_Coff_Ev1/en_Coff_Ev1-1.1.0/vocab/lookups.bin en_Coff_Ev1/en_Coff_Ev1-1.1.0/vocab/lookups.bin\n",
      "result /var/folders/0s/40sd363j3hv3vw2_9nmxhrrh0000gn/T/tmpmfc6si5e/en_Coff_Ev1/en_Coff_Ev1-1.1.0/vocab/strings.json en_Coff_Ev1/en_Coff_Ev1-1.1.0/vocab/strings.json\n",
      "result /var/folders/0s/40sd363j3hv3vw2_9nmxhrrh0000gn/T/tmpmfc6si5e/en_Coff_Ev1/en_Coff_Ev1-1.1.0/vocab/vectors en_Coff_Ev1/en_Coff_Ev1-1.1.0/vocab/vectors\n",
      "result /var/folders/0s/40sd363j3hv3vw2_9nmxhrrh0000gn/T/tmpmfc6si5e/en_Coff_Ev1/en_Coff_Ev1-1.1.0/vocab/vectors.cfg en_Coff_Ev1/en_Coff_Ev1-1.1.0/vocab/vectors.cfg\n",
      "result /var/folders/0s/40sd363j3hv3vw2_9nmxhrrh0000gn/T/tmpmfc6si5e/en_Coff_Ev1-1.1.0.dist-info/METADATA en_Coff_Ev1-1.1.0.dist-info/METADATA\n",
      "result /var/folders/0s/40sd363j3hv3vw2_9nmxhrrh0000gn/T/tmpmfc6si5e/en_Coff_Ev1-1.1.0.dist-info/WHEEL en_Coff_Ev1-1.1.0.dist-info/WHEEL\n",
      "result /var/folders/0s/40sd363j3hv3vw2_9nmxhrrh0000gn/T/tmpmfc6si5e/en_Coff_Ev1-1.1.0.dist-info/entry_points.txt en_Coff_Ev1-1.1.0.dist-info/entry_points.txt\n",
      "result /var/folders/0s/40sd363j3hv3vw2_9nmxhrrh0000gn/T/tmpmfc6si5e/en_Coff_Ev1-1.1.0.dist-info/top_level.txt en_Coff_Ev1-1.1.0.dist-info/top_level.txt\n",
      "result /var/folders/0s/40sd363j3hv3vw2_9nmxhrrh0000gn/T/tmpmfc6si5e/en_Coff_Ev1-1.1.0.dist-info/RECORD en_Coff_Ev1-1.1.0.dist-info/RECORD\n",
      "\u001b[38;5;2m✔ Extracted information from .whl file\u001b[0m\n",
      "\u001b[38;5;2m✔ Created model card\u001b[0m\n",
      "en_Coff_Ev1 (v1.1.0)\n",
      "Pushing repository to the hub...\n",
      "\u001b[38;5;2m✔ Pushed repository 'en_Coff_Ev1' to the hub\u001b[0m\n",
      "\n",
      "View your model here:\n",
      "https://huggingface.co/cbruinsm/en_Coff_Ev1\n",
      "\n",
      "Install your model:\n",
      "pip install https://huggingface.co/cbruinsm/en_Coff_Ev1/resolve/main/en_Coff_Ev1-any-py3-none-any.whl\n"
     ]
    }
   ],
   "source": [
    "from spacy_huggingface_hub import push\n",
    "\n",
    "result = push(\"/Users/chris/Documents/UR/SENIOR/CSC412/Projects/Final/CLP/CoffeeModels/en_Coff_Ev1-1.1.0/dist/en_Coff_Ev1-1.1.0-py3-none-any.whl\")"
   ]
  },
  {
   "cell_type": "markdown",
   "metadata": {},
   "source": []
  }
 ],
 "metadata": {
  "kernelspec": {
   "display_name": "Python 3.8.8 64-bit",
   "language": "python",
   "name": "python3"
  },
  "language_info": {
   "codemirror_mode": {
    "name": "ipython",
    "version": 3
   },
   "file_extension": ".py",
   "mimetype": "text/x-python",
   "name": "python",
   "nbconvert_exporter": "python",
   "pygments_lexer": "ipython3",
   "version": "3.8.8"
  },
  "orig_nbformat": 4,
  "vscode": {
   "interpreter": {
    "hash": "aee8b7b246df8f9039afb4144a1f6fd8d2ca17a180786b69acc140d282b71a49"
   }
  }
 },
 "nbformat": 4,
 "nbformat_minor": 2
}
