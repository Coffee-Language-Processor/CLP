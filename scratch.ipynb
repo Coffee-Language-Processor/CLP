{
 "cells": [
  {
   "cell_type": "code",
   "execution_count": 2,
   "metadata": {},
   "outputs": [],
   "source": [
    "import spacy\n",
    "from spacy import displacy"
   ]
  },
  {
   "cell_type": "code",
   "execution_count": 3,
   "metadata": {},
   "outputs": [],
   "source": [
    "nlp = spacy.load('output_folder/model-best')"
   ]
  },
  {
   "cell_type": "code",
   "execution_count": 5,
   "metadata": {},
   "outputs": [
    {
     "data": {
      "text/html": [
       "<span class=\"tex2jax_ignore\"><!DOCTYPE html>\n",
       "<html lang=\"en\">\n",
       "    <head>\n",
       "        <title>displaCy</title>\n",
       "    </head>\n",
       "\n",
       "    <body style=\"font-size: 16px; font-family: -apple-system, BlinkMacSystemFont, 'Segoe UI', Helvetica, Arial, sans-serif, 'Apple Color Emoji', 'Segoe UI Emoji', 'Segoe UI Symbol'; padding: 4rem 2rem; direction: ltr\">\n",
       "<figure style=\"margin-bottom: 6rem\">\n",
       "<div class=\"entities\" style=\"line-height: 2.5; direction: ltr\">\n",
       "<mark class=\"entity\" style=\"background: #ddd; padding: 0.45em 0.6em; margin: 0 0.25em; line-height: 1; border-radius: 0.35em;\">\n",
       "    tall\n",
       "    <span style=\"font-size: 0.8em; font-weight: bold; line-height: 1; border-radius: 0.35em; vertical-align: middle; margin-left: 0.5rem\">size</span>\n",
       "</mark>\n",
       " \n",
       "<mark class=\"entity\" style=\"background: #ddd; padding: 0.45em 0.6em; margin: 0 0.25em; line-height: 1; border-radius: 0.35em;\">\n",
       "    mocha\n",
       "    <span style=\"font-size: 0.8em; font-weight: bold; line-height: 1; border-radius: 0.35em; vertical-align: middle; margin-left: 0.5rem\">drink</span>\n",
       "</mark>\n",
       "</div>\n",
       "</figure>\n",
       "</body>\n",
       "</html></span>"
      ],
      "text/plain": [
       "<IPython.core.display.HTML object>"
      ]
     },
     "metadata": {},
     "output_type": "display_data"
    },
    {
     "ename": "OSError",
     "evalue": "[Errno 48] Address already in use",
     "output_type": "error",
     "traceback": [
      "\u001b[0;31m---------------------------------------------------------------------------\u001b[0m",
      "\u001b[0;31mOSError\u001b[0m                                   Traceback (most recent call last)",
      "Cell \u001b[0;32mIn [5], line 3\u001b[0m\n\u001b[1;32m      1\u001b[0m drink \u001b[39m=\u001b[39m \u001b[39m'\u001b[39m\u001b[39mtall mocha\u001b[39m\u001b[39m'\u001b[39m\n\u001b[1;32m      2\u001b[0m doc \u001b[39m=\u001b[39m nlp(drink)\n\u001b[0;32m----> 3\u001b[0m displacy\u001b[39m.\u001b[39;49mserve(doc, style\u001b[39m=\u001b[39;49m\u001b[39m\"\u001b[39;49m\u001b[39ment\u001b[39;49m\u001b[39m\"\u001b[39;49m)\n",
      "File \u001b[0;32m/Library/Frameworks/Python.framework/Versions/3.8/lib/python3.8/site-packages/spacy/displacy/__init__.py:105\u001b[0m, in \u001b[0;36mserve\u001b[0;34m(docs, style, page, minify, options, manual, port, host)\u001b[0m\n\u001b[1;32m    103\u001b[0m     warnings\u001b[39m.\u001b[39mwarn(Warnings\u001b[39m.\u001b[39mW011)\n\u001b[1;32m    104\u001b[0m render(docs, style\u001b[39m=\u001b[39mstyle, page\u001b[39m=\u001b[39mpage, minify\u001b[39m=\u001b[39mminify, options\u001b[39m=\u001b[39moptions, manual\u001b[39m=\u001b[39mmanual)\n\u001b[0;32m--> 105\u001b[0m httpd \u001b[39m=\u001b[39m simple_server\u001b[39m.\u001b[39;49mmake_server(host, port, app)\n\u001b[1;32m    106\u001b[0m \u001b[39mprint\u001b[39m(\u001b[39mf\u001b[39m\u001b[39m\"\u001b[39m\u001b[39m\\n\u001b[39;00m\u001b[39mUsing the \u001b[39m\u001b[39m'\u001b[39m\u001b[39m{\u001b[39;00mstyle\u001b[39m}\u001b[39;00m\u001b[39m'\u001b[39m\u001b[39m visualizer\u001b[39m\u001b[39m\"\u001b[39m)\n\u001b[1;32m    107\u001b[0m \u001b[39mprint\u001b[39m(\u001b[39mf\u001b[39m\u001b[39m\"\u001b[39m\u001b[39mServing on http://\u001b[39m\u001b[39m{\u001b[39;00mhost\u001b[39m}\u001b[39;00m\u001b[39m:\u001b[39m\u001b[39m{\u001b[39;00mport\u001b[39m}\u001b[39;00m\u001b[39m ...\u001b[39m\u001b[39m\\n\u001b[39;00m\u001b[39m\"\u001b[39m)\n",
      "File \u001b[0;32m/Library/Frameworks/Python.framework/Versions/3.8/lib/python3.8/wsgiref/simple_server.py:154\u001b[0m, in \u001b[0;36mmake_server\u001b[0;34m(host, port, app, server_class, handler_class)\u001b[0m\n\u001b[1;32m    150\u001b[0m \u001b[39mdef\u001b[39;00m \u001b[39mmake_server\u001b[39m(\n\u001b[1;32m    151\u001b[0m     host, port, app, server_class\u001b[39m=\u001b[39mWSGIServer, handler_class\u001b[39m=\u001b[39mWSGIRequestHandler\n\u001b[1;32m    152\u001b[0m ):\n\u001b[1;32m    153\u001b[0m     \u001b[39m\"\"\"Create a new WSGI server listening on `host` and `port` for `app`\"\"\"\u001b[39;00m\n\u001b[0;32m--> 154\u001b[0m     server \u001b[39m=\u001b[39m server_class((host, port), handler_class)\n\u001b[1;32m    155\u001b[0m     server\u001b[39m.\u001b[39mset_app(app)\n\u001b[1;32m    156\u001b[0m     \u001b[39mreturn\u001b[39;00m server\n",
      "File \u001b[0;32m/Library/Frameworks/Python.framework/Versions/3.8/lib/python3.8/socketserver.py:452\u001b[0m, in \u001b[0;36mTCPServer.__init__\u001b[0;34m(self, server_address, RequestHandlerClass, bind_and_activate)\u001b[0m\n\u001b[1;32m    450\u001b[0m \u001b[39mif\u001b[39;00m bind_and_activate:\n\u001b[1;32m    451\u001b[0m     \u001b[39mtry\u001b[39;00m:\n\u001b[0;32m--> 452\u001b[0m         \u001b[39mself\u001b[39;49m\u001b[39m.\u001b[39;49mserver_bind()\n\u001b[1;32m    453\u001b[0m         \u001b[39mself\u001b[39m\u001b[39m.\u001b[39mserver_activate()\n\u001b[1;32m    454\u001b[0m     \u001b[39mexcept\u001b[39;00m:\n",
      "File \u001b[0;32m/Library/Frameworks/Python.framework/Versions/3.8/lib/python3.8/wsgiref/simple_server.py:50\u001b[0m, in \u001b[0;36mWSGIServer.server_bind\u001b[0;34m(self)\u001b[0m\n\u001b[1;32m     48\u001b[0m \u001b[39mdef\u001b[39;00m \u001b[39mserver_bind\u001b[39m(\u001b[39mself\u001b[39m):\n\u001b[1;32m     49\u001b[0m     \u001b[39m\"\"\"Override server_bind to store the server name.\"\"\"\u001b[39;00m\n\u001b[0;32m---> 50\u001b[0m     HTTPServer\u001b[39m.\u001b[39;49mserver_bind(\u001b[39mself\u001b[39;49m)\n\u001b[1;32m     51\u001b[0m     \u001b[39mself\u001b[39m\u001b[39m.\u001b[39msetup_environ()\n",
      "File \u001b[0;32m/Library/Frameworks/Python.framework/Versions/3.8/lib/python3.8/http/server.py:138\u001b[0m, in \u001b[0;36mHTTPServer.server_bind\u001b[0;34m(self)\u001b[0m\n\u001b[1;32m    136\u001b[0m \u001b[39mdef\u001b[39;00m \u001b[39mserver_bind\u001b[39m(\u001b[39mself\u001b[39m):\n\u001b[1;32m    137\u001b[0m     \u001b[39m\"\"\"Override server_bind to store the server name.\"\"\"\u001b[39;00m\n\u001b[0;32m--> 138\u001b[0m     socketserver\u001b[39m.\u001b[39;49mTCPServer\u001b[39m.\u001b[39;49mserver_bind(\u001b[39mself\u001b[39;49m)\n\u001b[1;32m    139\u001b[0m     host, port \u001b[39m=\u001b[39m \u001b[39mself\u001b[39m\u001b[39m.\u001b[39mserver_address[:\u001b[39m2\u001b[39m]\n\u001b[1;32m    140\u001b[0m     \u001b[39mself\u001b[39m\u001b[39m.\u001b[39mserver_name \u001b[39m=\u001b[39m socket\u001b[39m.\u001b[39mgetfqdn(host)\n",
      "File \u001b[0;32m/Library/Frameworks/Python.framework/Versions/3.8/lib/python3.8/socketserver.py:466\u001b[0m, in \u001b[0;36mTCPServer.server_bind\u001b[0;34m(self)\u001b[0m\n\u001b[1;32m    464\u001b[0m \u001b[39mif\u001b[39;00m \u001b[39mself\u001b[39m\u001b[39m.\u001b[39mallow_reuse_address:\n\u001b[1;32m    465\u001b[0m     \u001b[39mself\u001b[39m\u001b[39m.\u001b[39msocket\u001b[39m.\u001b[39msetsockopt(socket\u001b[39m.\u001b[39mSOL_SOCKET, socket\u001b[39m.\u001b[39mSO_REUSEADDR, \u001b[39m1\u001b[39m)\n\u001b[0;32m--> 466\u001b[0m \u001b[39mself\u001b[39;49m\u001b[39m.\u001b[39;49msocket\u001b[39m.\u001b[39;49mbind(\u001b[39mself\u001b[39;49m\u001b[39m.\u001b[39;49mserver_address)\n\u001b[1;32m    467\u001b[0m \u001b[39mself\u001b[39m\u001b[39m.\u001b[39mserver_address \u001b[39m=\u001b[39m \u001b[39mself\u001b[39m\u001b[39m.\u001b[39msocket\u001b[39m.\u001b[39mgetsockname()\n",
      "\u001b[0;31mOSError\u001b[0m: [Errno 48] Address already in use"
     ]
    }
   ],
   "source": [
    "drink = 'tall mocha'\n",
    "doc = nlp(drink)\n",
    "displacy.serve(doc, style=\"ent\")"
   ]
  }
 ],
 "metadata": {
  "kernelspec": {
   "display_name": "Python 3.8.8 64-bit",
   "language": "python",
   "name": "python3"
  },
  "language_info": {
   "codemirror_mode": {
    "name": "ipython",
    "version": 3
   },
   "file_extension": ".py",
   "mimetype": "text/x-python",
   "name": "python",
   "nbconvert_exporter": "python",
   "pygments_lexer": "ipython3",
   "version": "3.8.8"
  },
  "orig_nbformat": 4,
  "vscode": {
   "interpreter": {
    "hash": "aee8b7b246df8f9039afb4144a1f6fd8d2ca17a180786b69acc140d282b71a49"
   }
  }
 },
 "nbformat": 4,
 "nbformat_minor": 2
}
